{
 "cells": [
  {
   "cell_type": "code",
   "execution_count": 13,
   "id": "0b13f571",
   "metadata": {},
   "outputs": [
    {
     "name": "stdout",
     "output_type": "stream",
     "text": [
      "One-hot encoding completed and saved to encoded_data.npy\n"
     ]
    }
   ],
   "source": [
    "import numpy as np\n",
    "import pickle \n",
    "\n",
    "\n",
    "# Function for one-hot encoding \n",
    "def one_hot_encode(smiles_string, char_to_int, vocabulary_size):\n",
    "    encoding = np.zeros((len(smiles_string), vocabulary_size))\n",
    "    for i, char in enumerate(smiles_string):\n",
    "        encoding[i, char_to_int[char]] = 1\n",
    "    return encoding\n",
    "\n",
    "# Read the data from the TSV file\n",
    "def read_data_tsv(file_path):\n",
    "    data = []\n",
    "    with open(file_path, 'r') as file:\n",
    "        for line in file:\n",
    "            fields = line.strip().split('\\t')\n",
    "            smiles = fields[0]  # Assuming SMILES is in the first column\n",
    "            data.append(smiles)\n",
    "    return data\n",
    "\n",
    "\n",
    "# Create a vocabulary of unique characters\n",
    "def create_vocabulary(data, output_file_path):\n",
    "    vocabulary = set(''.join(data))\n",
    "    char_to_int = {char: i for i, char in enumerate(vocabulary)}\n",
    "    int_to_char = {i: char for char, i in char_to_int.items()}\n",
    "    with open(output_file_path, 'wb') as file:\n",
    "        pickle.dump((char_to_int, int_to_char), file)\n",
    "    return char_to_int, int_to_char\n",
    "\n",
    "# Perform one-hot encoding on the entire dataset\n",
    "def one_hot_encode_dataset(data, char_to_int, vocabulary_size):\n",
    "    max_length = max(len(smiles_string) for smiles_string in data)\n",
    "    encoded_data = np.zeros((len(data), max_length, vocabulary_size))\n",
    "    for i, smiles_string in enumerate(data):\n",
    "        encoding = one_hot_encode(smiles_string, char_to_int, vocabulary_size)\n",
    "        pad_width = ((0, max_length - len(smiles_string)), (0, 0))\n",
    "        padded_encoding = np.pad(encoding, pad_width, mode='constant', constant_values=0)\n",
    "        encoded_data[i] = padded_encoding\n",
    "    return encoded_data\n",
    "\n",
    "\n",
    "# Save the encoded data to a new NPY file\n",
    "def save_encoded_data(encoded_data, output_file_path):\n",
    "    np.save(output_file_path, encoded_data)\n",
    "\n",
    "# Main function\n",
    "if __name__ == \"__main__\":\n",
    "    # File paths\n",
    "    input_file_path = \"structures.smiles.tsv\"\n",
    "    output_file_path = \"encoded_data.npy\"  # Save as NPY file\n",
    "    vocab_file_path = \"char_int_mapping.pkl\"  # Save as pickle file\n",
    "\n",
    "    # Read the data from the TSV file\n",
    "    data = read_data_tsv(input_file_path)\n",
    "\n",
    "    # Create the vocabulary and mapping and save to a file\n",
    "    char_to_int, int_to_char = create_vocabulary(data, vocab_file_path)\n",
    "\n",
    "    # Perform one-hot encoding on the dataset\n",
    "    encoded_data = one_hot_encode_dataset(data, char_to_int, len(char_to_int))\n",
    "\n",
    "    # Save the encoded data to a new NPY file\n",
    "    save_encoded_data(encoded_data, output_file_path)\n",
    "\n",
    "    print(\"One-hot encoding completed and saved to\", output_file_path)\n"
   ]
  },
  {
   "cell_type": "code",
   "execution_count": null,
   "id": "e89b7106",
   "metadata": {},
   "outputs": [],
   "source": []
  }
 ],
 "metadata": {
  "kernelspec": {
   "display_name": "Python 3 (ipykernel)",
   "language": "python",
   "name": "python3"
  },
  "language_info": {
   "codemirror_mode": {
    "name": "ipython",
    "version": 3
   },
   "file_extension": ".py",
   "mimetype": "text/x-python",
   "name": "python",
   "nbconvert_exporter": "python",
   "pygments_lexer": "ipython3",
   "version": "3.11.3"
  }
 },
 "nbformat": 4,
 "nbformat_minor": 5
}
